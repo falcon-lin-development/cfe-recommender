{
 "cells": [
  {
   "cell_type": "code",
   "execution_count": 2,
   "id": "38d70e6b-8642-487c-8212-2d53ff72fd8a",
   "metadata": {},
   "outputs": [],
   "source": [
    "import setup_django\n",
    "setup_django.init()"
   ]
  },
  {
   "cell_type": "code",
   "execution_count": 32,
   "id": "94363b66-264a-46d5-964f-51ea6ce0afae",
   "metadata": {},
   "outputs": [
    {
     "data": {
      "text/plain": [
       "True"
      ]
     },
     "execution_count": 32,
     "metadata": {},
     "output_type": "execute_result"
    }
   ],
   "source": [
    "from django.conf import settings\n",
    "from ratings.models import Rating\n",
    "from movies.models import Movie\n",
    "import pandas as pd\n",
    "\n",
    "LINKS_SMALL_CSV = settings.DATA_DIR / \"links_small.csv\"\n",
    "LINKS_SMALL_CSV.exists()"
   ]
  },
  {
   "cell_type": "code",
   "execution_count": 5,
   "id": "85c619ff-5f0e-4df5-81bd-dc94620a3c30",
   "metadata": {},
   "outputs": [
    {
     "name": "stdout",
     "output_type": "stream",
     "text": [
      "6392 57175\n"
     ]
    }
   ],
   "source": [
    "qs = Rating.objects.all()\n",
    "missing_movie_ids = []\n",
    "for instance in qs:\n",
    "    if instance.content_object is None:\n",
    "        missing_movie_ids.append(instance.object_id)\n",
    "\n",
    "_total = len(missing_movie_ids)\n",
    "total_missing = set(missing_movie_ids)\n"
   ]
  },
  {
   "cell_type": "code",
   "execution_count": 6,
   "id": "d03cfd2d-b87b-4fa4-b2b7-ca7bc3606e3e",
   "metadata": {},
   "outputs": [
    {
     "name": "stdout",
     "output_type": "stream",
     "text": [
      "6392 57175 100004\n"
     ]
    }
   ],
   "source": [
    "print(len(total_missing), _total, qs.count())"
   ]
  },
  {
   "cell_type": "code",
   "execution_count": 13,
   "id": "e9eadc5d-1e38-4d01-bef0-0d3505b749eb",
   "metadata": {},
   "outputs": [
    {
     "data": {
      "text/html": [
       "<div>\n",
       "<style scoped>\n",
       "    .dataframe tbody tr th:only-of-type {\n",
       "        vertical-align: middle;\n",
       "    }\n",
       "\n",
       "    .dataframe tbody tr th {\n",
       "        vertical-align: top;\n",
       "    }\n",
       "\n",
       "    .dataframe thead th {\n",
       "        text-align: right;\n",
       "    }\n",
       "</style>\n",
       "<table border=\"1\" class=\"dataframe\">\n",
       "  <thead>\n",
       "    <tr style=\"text-align: right;\">\n",
       "      <th></th>\n",
       "      <th>movieId</th>\n",
       "      <th>imdbId</th>\n",
       "      <th>tmdbId</th>\n",
       "    </tr>\n",
       "  </thead>\n",
       "  <tbody>\n",
       "    <tr>\n",
       "      <th>0</th>\n",
       "      <td>1</td>\n",
       "      <td>114709</td>\n",
       "      <td>862.0</td>\n",
       "    </tr>\n",
       "    <tr>\n",
       "      <th>1</th>\n",
       "      <td>2</td>\n",
       "      <td>113497</td>\n",
       "      <td>8844.0</td>\n",
       "    </tr>\n",
       "    <tr>\n",
       "      <th>2</th>\n",
       "      <td>3</td>\n",
       "      <td>113228</td>\n",
       "      <td>15602.0</td>\n",
       "    </tr>\n",
       "    <tr>\n",
       "      <th>3</th>\n",
       "      <td>4</td>\n",
       "      <td>114885</td>\n",
       "      <td>31357.0</td>\n",
       "    </tr>\n",
       "    <tr>\n",
       "      <th>4</th>\n",
       "      <td>5</td>\n",
       "      <td>113041</td>\n",
       "      <td>11862.0</td>\n",
       "    </tr>\n",
       "  </tbody>\n",
       "</table>\n",
       "</div>"
      ],
      "text/plain": [
       "   movieId  imdbId   tmdbId\n",
       "0        1  114709    862.0\n",
       "1        2  113497   8844.0\n",
       "2        3  113228  15602.0\n",
       "3        4  114885  31357.0\n",
       "4        5  113041  11862.0"
      ]
     },
     "execution_count": 13,
     "metadata": {},
     "output_type": "execute_result"
    }
   ],
   "source": [
    "links_df = pd.read_csv(LINKS_SMALL_CSV)\n",
    "links_df.head()"
   ]
  },
  {
   "cell_type": "code",
   "execution_count": 15,
   "id": "c6f792aa-e6f3-4d55-b335-8b4f0d24236a",
   "metadata": {},
   "outputs": [
    {
     "data": {
      "text/html": [
       "<div>\n",
       "<style scoped>\n",
       "    .dataframe tbody tr th:only-of-type {\n",
       "        vertical-align: middle;\n",
       "    }\n",
       "\n",
       "    .dataframe tbody tr th {\n",
       "        vertical-align: top;\n",
       "    }\n",
       "\n",
       "    .dataframe thead th {\n",
       "        text-align: right;\n",
       "    }\n",
       "</style>\n",
       "<table border=\"1\" class=\"dataframe\">\n",
       "  <thead>\n",
       "    <tr style=\"text-align: right;\">\n",
       "      <th></th>\n",
       "      <th>movieId</th>\n",
       "      <th>imdbId</th>\n",
       "      <th>tmdbId</th>\n",
       "    </tr>\n",
       "  </thead>\n",
       "  <tbody>\n",
       "    <tr>\n",
       "      <th>0</th>\n",
       "      <td>1</td>\n",
       "      <td>114709</td>\n",
       "      <td>862.0</td>\n",
       "    </tr>\n",
       "    <tr>\n",
       "      <th>3</th>\n",
       "      <td>4</td>\n",
       "      <td>114885</td>\n",
       "      <td>31357.0</td>\n",
       "    </tr>\n",
       "    <tr>\n",
       "      <th>6</th>\n",
       "      <td>7</td>\n",
       "      <td>114319</td>\n",
       "      <td>11860.0</td>\n",
       "    </tr>\n",
       "    <tr>\n",
       "      <th>7</th>\n",
       "      <td>8</td>\n",
       "      <td>112302</td>\n",
       "      <td>45325.0</td>\n",
       "    </tr>\n",
       "    <tr>\n",
       "      <th>8</th>\n",
       "      <td>9</td>\n",
       "      <td>114576</td>\n",
       "      <td>9091.0</td>\n",
       "    </tr>\n",
       "  </tbody>\n",
       "</table>\n",
       "</div>"
      ],
      "text/plain": [
       "   movieId  imdbId   tmdbId\n",
       "0        1  114709    862.0\n",
       "3        4  114885  31357.0\n",
       "6        7  114319  11860.0\n",
       "7        8  112302  45325.0\n",
       "8        9  114576   9091.0"
      ]
     },
     "execution_count": 15,
     "metadata": {},
     "output_type": "execute_result"
    }
   ],
   "source": [
    "ms_df = links_df.copy()[links_df.movieId.isin(total_missing)]\n",
    "ms_df.head()"
   ]
  },
  {
   "cell_type": "code",
   "execution_count": 17,
   "id": "65a04821-016a-4477-9fe0-35588c27b32b",
   "metadata": {},
   "outputs": [
    {
     "data": {
      "text/plain": [
       "True"
      ]
     },
     "execution_count": 17,
     "metadata": {},
     "output_type": "execute_result"
    }
   ],
   "source": [
    "ms_df.shape[0] == len(total_missing)"
   ]
  },
  {
   "cell_type": "code",
   "execution_count": null,
   "id": "ba79548b-f270-49b0-bc2d-500d211dd20f",
   "metadata": {},
   "outputs": [],
   "source": []
  },
  {
   "cell_type": "code",
   "execution_count": 18,
   "id": "6afce661-1c4d-486c-96a8-f6d119613ce9",
   "metadata": {},
   "outputs": [],
   "source": [
    "def enrich_imdb_col(val):\n",
    "    val = str(val)\n",
    "    if len(val) == 7:\n",
    "        val = \"tt\" + val\n",
    "    elif len(val) == 6:\n",
    "        val = f\"tt0{val}\"\n",
    "    elif len(val) == 5:\n",
    "        val = f\"tt00{val}\"\n",
    "    return val"
   ]
  },
  {
   "cell_type": "code",
   "execution_count": 20,
   "id": "210c7e7e-acfc-445c-b815-71964ccdd115",
   "metadata": {},
   "outputs": [],
   "source": [
    "ms_df[\"tt\"] = ms_df[\"imdbId\"].apply(enrich_imdb_col)"
   ]
  },
  {
   "cell_type": "code",
   "execution_count": 21,
   "id": "dfafc136-7971-43d7-9e11-1a71c1a5ff48",
   "metadata": {},
   "outputs": [
    {
     "data": {
      "text/html": [
       "<div>\n",
       "<style scoped>\n",
       "    .dataframe tbody tr th:only-of-type {\n",
       "        vertical-align: middle;\n",
       "    }\n",
       "\n",
       "    .dataframe tbody tr th {\n",
       "        vertical-align: top;\n",
       "    }\n",
       "\n",
       "    .dataframe thead th {\n",
       "        text-align: right;\n",
       "    }\n",
       "</style>\n",
       "<table border=\"1\" class=\"dataframe\">\n",
       "  <thead>\n",
       "    <tr style=\"text-align: right;\">\n",
       "      <th></th>\n",
       "      <th>movieId</th>\n",
       "      <th>imdbId</th>\n",
       "      <th>tmdbId</th>\n",
       "      <th>tt</th>\n",
       "    </tr>\n",
       "  </thead>\n",
       "  <tbody>\n",
       "    <tr>\n",
       "      <th>0</th>\n",
       "      <td>1</td>\n",
       "      <td>114709</td>\n",
       "      <td>862.0</td>\n",
       "      <td>tt0114709</td>\n",
       "    </tr>\n",
       "    <tr>\n",
       "      <th>3</th>\n",
       "      <td>4</td>\n",
       "      <td>114885</td>\n",
       "      <td>31357.0</td>\n",
       "      <td>tt0114885</td>\n",
       "    </tr>\n",
       "    <tr>\n",
       "      <th>6</th>\n",
       "      <td>7</td>\n",
       "      <td>114319</td>\n",
       "      <td>11860.0</td>\n",
       "      <td>tt0114319</td>\n",
       "    </tr>\n",
       "    <tr>\n",
       "      <th>7</th>\n",
       "      <td>8</td>\n",
       "      <td>112302</td>\n",
       "      <td>45325.0</td>\n",
       "      <td>tt0112302</td>\n",
       "    </tr>\n",
       "    <tr>\n",
       "      <th>8</th>\n",
       "      <td>9</td>\n",
       "      <td>114576</td>\n",
       "      <td>9091.0</td>\n",
       "      <td>tt0114576</td>\n",
       "    </tr>\n",
       "  </tbody>\n",
       "</table>\n",
       "</div>"
      ],
      "text/plain": [
       "   movieId  imdbId   tmdbId         tt\n",
       "0        1  114709    862.0  tt0114709\n",
       "3        4  114885  31357.0  tt0114885\n",
       "6        7  114319  11860.0  tt0114319\n",
       "7        8  112302  45325.0  tt0112302\n",
       "8        9  114576   9091.0  tt0114576"
      ]
     },
     "execution_count": 21,
     "metadata": {},
     "output_type": "execute_result"
    }
   ],
   "source": [
    "ms_df.head()"
   ]
  },
  {
   "cell_type": "code",
   "execution_count": 22,
   "id": "526217c9-e846-4ba8-afa5-f2c53199405d",
   "metadata": {},
   "outputs": [
    {
     "data": {
      "text/plain": [
       "True"
      ]
     },
     "execution_count": 22,
     "metadata": {},
     "output_type": "execute_result"
    }
   ],
   "source": [
    "MOVIES_CSV = settings.DATA_DIR / \"movies_metadata.csv\"\n",
    "MOVIES_CSV.exists()"
   ]
  },
  {
   "cell_type": "code",
   "execution_count": 26,
   "id": "3272bcb9-0f99-4d06-8447-c6588e7c9b76",
   "metadata": {},
   "outputs": [
    {
     "data": {
      "text/html": [
       "<div>\n",
       "<style scoped>\n",
       "    .dataframe tbody tr th:only-of-type {\n",
       "        vertical-align: middle;\n",
       "    }\n",
       "\n",
       "    .dataframe tbody tr th {\n",
       "        vertical-align: top;\n",
       "    }\n",
       "\n",
       "    .dataframe thead th {\n",
       "        text-align: right;\n",
       "    }\n",
       "</style>\n",
       "<table border=\"1\" class=\"dataframe\">\n",
       "  <thead>\n",
       "    <tr style=\"text-align: right;\">\n",
       "      <th></th>\n",
       "      <th>imdb_id</th>\n",
       "      <th>overview</th>\n",
       "      <th>release_date</th>\n",
       "      <th>title</th>\n",
       "    </tr>\n",
       "  </thead>\n",
       "  <tbody>\n",
       "    <tr>\n",
       "      <th>0</th>\n",
       "      <td>tt0114709</td>\n",
       "      <td>Led by Woody, Andy's toys live happily in his ...</td>\n",
       "      <td>1995-10-30</td>\n",
       "      <td>Toy Story</td>\n",
       "    </tr>\n",
       "    <tr>\n",
       "      <th>1</th>\n",
       "      <td>tt0113497</td>\n",
       "      <td>When siblings Judy and Peter discover an encha...</td>\n",
       "      <td>1995-12-15</td>\n",
       "      <td>Jumanji</td>\n",
       "    </tr>\n",
       "    <tr>\n",
       "      <th>2</th>\n",
       "      <td>tt0113228</td>\n",
       "      <td>A family wedding reignites the ancient feud be...</td>\n",
       "      <td>1995-12-22</td>\n",
       "      <td>Grumpier Old Men</td>\n",
       "    </tr>\n",
       "    <tr>\n",
       "      <th>3</th>\n",
       "      <td>tt0114885</td>\n",
       "      <td>Cheated on, mistreated and stepped on, the wom...</td>\n",
       "      <td>1995-12-22</td>\n",
       "      <td>Waiting to Exhale</td>\n",
       "    </tr>\n",
       "    <tr>\n",
       "      <th>4</th>\n",
       "      <td>tt0113041</td>\n",
       "      <td>Just when George Banks has recovered from his ...</td>\n",
       "      <td>1995-02-10</td>\n",
       "      <td>Father of the Bride Part II</td>\n",
       "    </tr>\n",
       "  </tbody>\n",
       "</table>\n",
       "</div>"
      ],
      "text/plain": [
       "     imdb_id                                           overview release_date  \\\n",
       "0  tt0114709  Led by Woody, Andy's toys live happily in his ...   1995-10-30   \n",
       "1  tt0113497  When siblings Judy and Peter discover an encha...   1995-12-15   \n",
       "2  tt0113228  A family wedding reignites the ancient feud be...   1995-12-22   \n",
       "3  tt0114885  Cheated on, mistreated and stepped on, the wom...   1995-12-22   \n",
       "4  tt0113041  Just when George Banks has recovered from his ...   1995-02-10   \n",
       "\n",
       "                         title  \n",
       "0                    Toy Story  \n",
       "1                      Jumanji  \n",
       "2             Grumpier Old Men  \n",
       "3            Waiting to Exhale  \n",
       "4  Father of the Bride Part II  "
      ]
     },
     "execution_count": 26,
     "metadata": {},
     "output_type": "execute_result"
    }
   ],
   "source": [
    "movies_cols = [\"title\", \"overview\", \"release_date\", \"imdb_id\"]\n",
    "movies_df = pd.read_csv(MOVIES_CSV, usecols=movies_cols)\n",
    "movies_df.head()"
   ]
  },
  {
   "cell_type": "code",
   "execution_count": 27,
   "id": "cf41f79e-7106-46bd-8581-1c1b58ac68b3",
   "metadata": {},
   "outputs": [
    {
     "data": {
      "text/html": [
       "<div>\n",
       "<style scoped>\n",
       "    .dataframe tbody tr th:only-of-type {\n",
       "        vertical-align: middle;\n",
       "    }\n",
       "\n",
       "    .dataframe tbody tr th {\n",
       "        vertical-align: top;\n",
       "    }\n",
       "\n",
       "    .dataframe thead th {\n",
       "        text-align: right;\n",
       "    }\n",
       "</style>\n",
       "<table border=\"1\" class=\"dataframe\">\n",
       "  <thead>\n",
       "    <tr style=\"text-align: right;\">\n",
       "      <th></th>\n",
       "      <th>movieId</th>\n",
       "      <th>imdbId</th>\n",
       "      <th>tmdbId</th>\n",
       "      <th>tt</th>\n",
       "      <th>imdb_id</th>\n",
       "      <th>overview</th>\n",
       "      <th>release_date</th>\n",
       "      <th>title</th>\n",
       "    </tr>\n",
       "  </thead>\n",
       "  <tbody>\n",
       "    <tr>\n",
       "      <th>0</th>\n",
       "      <td>1</td>\n",
       "      <td>114709</td>\n",
       "      <td>862.0</td>\n",
       "      <td>tt0114709</td>\n",
       "      <td>tt0114709</td>\n",
       "      <td>Led by Woody, Andy's toys live happily in his ...</td>\n",
       "      <td>1995-10-30</td>\n",
       "      <td>Toy Story</td>\n",
       "    </tr>\n",
       "    <tr>\n",
       "      <th>1</th>\n",
       "      <td>4</td>\n",
       "      <td>114885</td>\n",
       "      <td>31357.0</td>\n",
       "      <td>tt0114885</td>\n",
       "      <td>tt0114885</td>\n",
       "      <td>Cheated on, mistreated and stepped on, the wom...</td>\n",
       "      <td>1995-12-22</td>\n",
       "      <td>Waiting to Exhale</td>\n",
       "    </tr>\n",
       "    <tr>\n",
       "      <th>2</th>\n",
       "      <td>7</td>\n",
       "      <td>114319</td>\n",
       "      <td>11860.0</td>\n",
       "      <td>tt0114319</td>\n",
       "      <td>tt0114319</td>\n",
       "      <td>An ugly duckling having undergone a remarkable...</td>\n",
       "      <td>1995-12-15</td>\n",
       "      <td>Sabrina</td>\n",
       "    </tr>\n",
       "    <tr>\n",
       "      <th>3</th>\n",
       "      <td>8</td>\n",
       "      <td>112302</td>\n",
       "      <td>45325.0</td>\n",
       "      <td>tt0112302</td>\n",
       "      <td>tt0112302</td>\n",
       "      <td>A mischievous young boy, Tom Sawyer, witnesses...</td>\n",
       "      <td>1995-12-22</td>\n",
       "      <td>Tom and Huck</td>\n",
       "    </tr>\n",
       "    <tr>\n",
       "      <th>4</th>\n",
       "      <td>9</td>\n",
       "      <td>114576</td>\n",
       "      <td>9091.0</td>\n",
       "      <td>tt0114576</td>\n",
       "      <td>tt0114576</td>\n",
       "      <td>International action superstar Jean Claude Van...</td>\n",
       "      <td>1995-12-22</td>\n",
       "      <td>Sudden Death</td>\n",
       "    </tr>\n",
       "  </tbody>\n",
       "</table>\n",
       "</div>"
      ],
      "text/plain": [
       "   movieId  imdbId   tmdbId         tt    imdb_id  \\\n",
       "0        1  114709    862.0  tt0114709  tt0114709   \n",
       "1        4  114885  31357.0  tt0114885  tt0114885   \n",
       "2        7  114319  11860.0  tt0114319  tt0114319   \n",
       "3        8  112302  45325.0  tt0112302  tt0112302   \n",
       "4        9  114576   9091.0  tt0114576  tt0114576   \n",
       "\n",
       "                                            overview release_date  \\\n",
       "0  Led by Woody, Andy's toys live happily in his ...   1995-10-30   \n",
       "1  Cheated on, mistreated and stepped on, the wom...   1995-12-22   \n",
       "2  An ugly duckling having undergone a remarkable...   1995-12-15   \n",
       "3  A mischievous young boy, Tom Sawyer, witnesses...   1995-12-22   \n",
       "4  International action superstar Jean Claude Van...   1995-12-22   \n",
       "\n",
       "               title  \n",
       "0          Toy Story  \n",
       "1  Waiting to Exhale  \n",
       "2            Sabrina  \n",
       "3       Tom and Huck  \n",
       "4       Sudden Death  "
      ]
     },
     "execution_count": 27,
     "metadata": {},
     "output_type": "execute_result"
    }
   ],
   "source": [
    "missing_movies_df = ms_df.merge(movies_df, left_on=\"tt\", right_on=\"imdb_id\")\n",
    "missing_movies_df.head()"
   ]
  },
  {
   "cell_type": "code",
   "execution_count": 29,
   "id": "ab168a6b-29a6-4eea-9e29-6a00da6604a8",
   "metadata": {},
   "outputs": [
    {
     "data": {
      "text/html": [
       "<div>\n",
       "<style scoped>\n",
       "    .dataframe tbody tr th:only-of-type {\n",
       "        vertical-align: middle;\n",
       "    }\n",
       "\n",
       "    .dataframe tbody tr th {\n",
       "        vertical-align: top;\n",
       "    }\n",
       "\n",
       "    .dataframe thead th {\n",
       "        text-align: right;\n",
       "    }\n",
       "</style>\n",
       "<table border=\"1\" class=\"dataframe\">\n",
       "  <thead>\n",
       "    <tr style=\"text-align: right;\">\n",
       "      <th></th>\n",
       "      <th>movieId</th>\n",
       "      <th>imdbId</th>\n",
       "      <th>tmdbId</th>\n",
       "      <th>tt</th>\n",
       "      <th>imdb_id</th>\n",
       "      <th>overview</th>\n",
       "      <th>release_date</th>\n",
       "      <th>title</th>\n",
       "      <th>id</th>\n",
       "      <th>id_alt</th>\n",
       "    </tr>\n",
       "  </thead>\n",
       "  <tbody>\n",
       "    <tr>\n",
       "      <th>0</th>\n",
       "      <td>1</td>\n",
       "      <td>114709</td>\n",
       "      <td>862.0</td>\n",
       "      <td>tt0114709</td>\n",
       "      <td>tt0114709</td>\n",
       "      <td>Led by Woody, Andy's toys live happily in his ...</td>\n",
       "      <td>1995-10-30</td>\n",
       "      <td>Toy Story</td>\n",
       "      <td>1</td>\n",
       "      <td>862</td>\n",
       "    </tr>\n",
       "    <tr>\n",
       "      <th>1</th>\n",
       "      <td>4</td>\n",
       "      <td>114885</td>\n",
       "      <td>31357.0</td>\n",
       "      <td>tt0114885</td>\n",
       "      <td>tt0114885</td>\n",
       "      <td>Cheated on, mistreated and stepped on, the wom...</td>\n",
       "      <td>1995-12-22</td>\n",
       "      <td>Waiting to Exhale</td>\n",
       "      <td>4</td>\n",
       "      <td>31357</td>\n",
       "    </tr>\n",
       "    <tr>\n",
       "      <th>2</th>\n",
       "      <td>7</td>\n",
       "      <td>114319</td>\n",
       "      <td>11860.0</td>\n",
       "      <td>tt0114319</td>\n",
       "      <td>tt0114319</td>\n",
       "      <td>An ugly duckling having undergone a remarkable...</td>\n",
       "      <td>1995-12-15</td>\n",
       "      <td>Sabrina</td>\n",
       "      <td>7</td>\n",
       "      <td>11860</td>\n",
       "    </tr>\n",
       "    <tr>\n",
       "      <th>3</th>\n",
       "      <td>8</td>\n",
       "      <td>112302</td>\n",
       "      <td>45325.0</td>\n",
       "      <td>tt0112302</td>\n",
       "      <td>tt0112302</td>\n",
       "      <td>A mischievous young boy, Tom Sawyer, witnesses...</td>\n",
       "      <td>1995-12-22</td>\n",
       "      <td>Tom and Huck</td>\n",
       "      <td>8</td>\n",
       "      <td>45325</td>\n",
       "    </tr>\n",
       "    <tr>\n",
       "      <th>4</th>\n",
       "      <td>9</td>\n",
       "      <td>114576</td>\n",
       "      <td>9091.0</td>\n",
       "      <td>tt0114576</td>\n",
       "      <td>tt0114576</td>\n",
       "      <td>International action superstar Jean Claude Van...</td>\n",
       "      <td>1995-12-22</td>\n",
       "      <td>Sudden Death</td>\n",
       "      <td>9</td>\n",
       "      <td>9091</td>\n",
       "    </tr>\n",
       "  </tbody>\n",
       "</table>\n",
       "</div>"
      ],
      "text/plain": [
       "   movieId  imdbId   tmdbId         tt    imdb_id  \\\n",
       "0        1  114709    862.0  tt0114709  tt0114709   \n",
       "1        4  114885  31357.0  tt0114885  tt0114885   \n",
       "2        7  114319  11860.0  tt0114319  tt0114319   \n",
       "3        8  112302  45325.0  tt0112302  tt0112302   \n",
       "4        9  114576   9091.0  tt0114576  tt0114576   \n",
       "\n",
       "                                            overview release_date  \\\n",
       "0  Led by Woody, Andy's toys live happily in his ...   1995-10-30   \n",
       "1  Cheated on, mistreated and stepped on, the wom...   1995-12-22   \n",
       "2  An ugly duckling having undergone a remarkable...   1995-12-15   \n",
       "3  A mischievous young boy, Tom Sawyer, witnesses...   1995-12-22   \n",
       "4  International action superstar Jean Claude Van...   1995-12-22   \n",
       "\n",
       "               title  id id_alt  \n",
       "0          Toy Story   1    862  \n",
       "1  Waiting to Exhale   4  31357  \n",
       "2            Sabrina   7  11860  \n",
       "3       Tom and Huck   8  45325  \n",
       "4       Sudden Death   9   9091  "
      ]
     },
     "execution_count": 29,
     "metadata": {},
     "output_type": "execute_result"
    }
   ],
   "source": [
    "missing_movies_df[\"id\"] = missing_movies_df[\"movieId\"]\n",
    "missing_movies_df[\"id_alt\"] = missing_movies_df[\"tmdbId\"].apply(lambda x: str(int(x)))\n",
    "missing_movies_df.head()                                                       "
   ]
  },
  {
   "cell_type": "code",
   "execution_count": 37,
   "id": "51595261-eb77-4f8b-bb9f-64833646b68f",
   "metadata": {},
   "outputs": [
    {
     "data": {
      "text/html": [
       "<div>\n",
       "<style scoped>\n",
       "    .dataframe tbody tr th:only-of-type {\n",
       "        vertical-align: middle;\n",
       "    }\n",
       "\n",
       "    .dataframe tbody tr th {\n",
       "        vertical-align: top;\n",
       "    }\n",
       "\n",
       "    .dataframe thead th {\n",
       "        text-align: right;\n",
       "    }\n",
       "</style>\n",
       "<table border=\"1\" class=\"dataframe\">\n",
       "  <thead>\n",
       "    <tr style=\"text-align: right;\">\n",
       "      <th></th>\n",
       "      <th>id</th>\n",
       "      <th>id_alt</th>\n",
       "      <th>title</th>\n",
       "    </tr>\n",
       "  </thead>\n",
       "  <tbody>\n",
       "    <tr>\n",
       "      <th>0</th>\n",
       "      <td>1</td>\n",
       "      <td>862</td>\n",
       "      <td>Toy Story</td>\n",
       "    </tr>\n",
       "    <tr>\n",
       "      <th>1</th>\n",
       "      <td>4</td>\n",
       "      <td>31357</td>\n",
       "      <td>Waiting to Exhale</td>\n",
       "    </tr>\n",
       "    <tr>\n",
       "      <th>2</th>\n",
       "      <td>7</td>\n",
       "      <td>11860</td>\n",
       "      <td>Sabrina</td>\n",
       "    </tr>\n",
       "    <tr>\n",
       "      <th>3</th>\n",
       "      <td>8</td>\n",
       "      <td>45325</td>\n",
       "      <td>Tom and Huck</td>\n",
       "    </tr>\n",
       "    <tr>\n",
       "      <th>4</th>\n",
       "      <td>9</td>\n",
       "      <td>9091</td>\n",
       "      <td>Sudden Death</td>\n",
       "    </tr>\n",
       "  </tbody>\n",
       "</table>\n",
       "</div>"
      ],
      "text/plain": [
       "   id id_alt              title\n",
       "0   1    862          Toy Story\n",
       "1   4  31357  Waiting to Exhale\n",
       "2   7  11860            Sabrina\n",
       "3   8  45325       Tom and Huck\n",
       "4   9   9091       Sudden Death"
      ]
     },
     "execution_count": 37,
     "metadata": {},
     "output_type": "execute_result"
    }
   ],
   "source": [
    "final_df = missing_movies_df.copy()[[\"id\", \"id_alt\", \"title\"]]\n",
    "final_df[\"id_alt\"] = final_df[\"id_alt\"].astype(str)\n",
    "final_df.head()"
   ]
  },
  {
   "cell_type": "code",
   "execution_count": 33,
   "id": "3d69d015-e4fc-41d8-91b6-9c5d719496ce",
   "metadata": {},
   "outputs": [],
   "source": [
    "alt_id_list = final_df[\"id_alt\"].to_list()"
   ]
  },
  {
   "cell_type": "code",
   "execution_count": 34,
   "id": "bcf02c78-aae6-45a2-9a80-ff9e69ba6c1f",
   "metadata": {},
   "outputs": [
    {
     "data": {
      "text/plain": [
       "6035"
      ]
     },
     "execution_count": 34,
     "metadata": {},
     "output_type": "execute_result"
    }
   ],
   "source": [
    "movies_qs = Movie.objects.filter(id__in=alt_id_list)\n",
    "movies_qs.count()"
   ]
  },
  {
   "cell_type": "code",
   "execution_count": 36,
   "id": "1764ff6d-f30b-452e-9ec6-2a7ad0f91a67",
   "metadata": {},
   "outputs": [],
   "source": [
    "from django.forms.models import model_to_dict"
   ]
  },
  {
   "cell_type": "code",
   "execution_count": 46,
   "id": "099cc835-696e-4d1f-88cd-23c5592f21d3",
   "metadata": {},
   "outputs": [],
   "source": [
    "movies_qs = Movie.objects.filter(id__in=alt_id_list)\n",
    "\n",
    "for obj in movies_qs:\n",
    "    data = final_df.copy()[final_df[\"id_alt\"] == str(obj.id)]\n",
    "    if data.shape[0] == 1:\n",
    "        og_model_data = model_to_dict(obj)\n",
    "        update_data = data.to_dict(\"records\")[0]\n",
    "        if obj.title == update_data.get(\"title\"):\n",
    "            # print(og_model_data)\n",
    "            og_model_data[\"id\"] = update_data[\"id\"]\n",
    "            new_model_data = {**og_model_data}\n",
    "            # print(new_model_data)\n",
    "            obj.delete()\n",
    "            Movie.objects.create(**new_model_data)"
   ]
  },
  {
   "cell_type": "code",
   "execution_count": 48,
   "id": "54ba5ca9-09df-44eb-a876-ef5deefa6c0e",
   "metadata": {},
   "outputs": [
    {
     "name": "stdout",
     "output_type": "stream",
     "text": [
      "Updated 8117 movie ratings in 0:00:07(7.787115097045898s)\n"
     ]
    }
   ],
   "source": [
    "from ratings.tasks import task_update_movie_ratings\n",
    "task_update_movie_ratings()"
   ]
  },
  {
   "cell_type": "code",
   "execution_count": null,
   "id": "4455d3c5-879b-473f-90ec-a6c3fa6f9ac6",
   "metadata": {},
   "outputs": [],
   "source": []
  }
 ],
 "metadata": {
  "kernelspec": {
   "display_name": "Python 3 (ipykernel)",
   "language": "python",
   "name": "python3"
  },
  "language_info": {
   "codemirror_mode": {
    "name": "ipython",
    "version": 3
   },
   "file_extension": ".py",
   "mimetype": "text/x-python",
   "name": "python",
   "nbconvert_exporter": "python",
   "pygments_lexer": "ipython3",
   "version": "3.8.18"
  }
 },
 "nbformat": 4,
 "nbformat_minor": 5
}

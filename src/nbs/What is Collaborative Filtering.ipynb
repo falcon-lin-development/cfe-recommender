{
 "cells": [
  {
   "cell_type": "code",
   "execution_count": 6,
   "id": "8613c171-baf5-4c62-a61d-2265d7164baf",
   "metadata": {},
   "outputs": [],
   "source": [
    "import setup_django\n",
    "setup_django.init()"
   ]
  },
  {
   "cell_type": "code",
   "execution_count": 7,
   "id": "23c3a2e7-0632-4276-aeeb-58b2d1065058",
   "metadata": {},
   "outputs": [],
   "source": [
    "import numpy as np\n",
    "import pandas as pd\n",
    "from django.contrib.auth import get_user_model\n",
    "from django.db.models import F, Count, Sum, IntegerField\n",
    "from movies.models import Movie\n",
    "from ratings.models import Rating\n",
    "import random\n",
    "\n",
    "User = get_user_model()"
   ]
  },
  {
   "cell_type": "code",
   "execution_count": 8,
   "id": "8e50166b-45bd-4472-856c-b968a070d740",
   "metadata": {},
   "outputs": [
    {
     "data": {
      "text/plain": [
       "<Movie: Once Were Warriors (1994)>"
      ]
     },
     "execution_count": 8,
     "metadata": {},
     "output_type": "execute_result"
    }
   ],
   "source": [
    "rating_obj = Rating.objects.filter(user__username=\"falcon\", value__gte=5).first()\n",
    "rating_obj.content_object"
   ]
  },
  {
   "cell_type": "code",
   "execution_count": 10,
   "id": "0dba9edc-8a18-45e5-82b6-4ad046c68ee2",
   "metadata": {},
   "outputs": [],
   "source": [
    "movie_id = rating_obj.content_object.id\n",
    "value = rating_obj.value\n",
    "user_id = rating_obj.user_id"
   ]
  },
  {
   "cell_type": "code",
   "execution_count": null,
   "id": "4acd4daa-6da2-4769-8ba2-5e0ca758b4d4",
   "metadata": {},
   "outputs": [],
   "source": [
    "print()"
   ]
  }
 ],
 "metadata": {
  "kernelspec": {
   "display_name": "Python 3 (ipykernel)",
   "language": "python",
   "name": "python3"
  },
  "language_info": {
   "codemirror_mode": {
    "name": "ipython",
    "version": 3
   },
   "file_extension": ".py",
   "mimetype": "text/x-python",
   "name": "python",
   "nbconvert_exporter": "python",
   "pygments_lexer": "ipython3",
   "version": "3.8.18"
  }
 },
 "nbformat": 4,
 "nbformat_minor": 5
}
